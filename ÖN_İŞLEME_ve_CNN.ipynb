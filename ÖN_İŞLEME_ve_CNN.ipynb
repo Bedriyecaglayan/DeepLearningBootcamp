{
  "nbformat": 4,
  "nbformat_minor": 0,
  "metadata": {
    "colab": {
      "provenance": [],
      "collapsed_sections": []
    },
    "kernelspec": {
      "name": "python3",
      "display_name": "Python 3"
    },
    "language_info": {
      "name": "python"
    }
  },
  "cells": [
    {
      "cell_type": "markdown",
      "source": [
        "ÇALIŞMADA HAZIR SPEKTROGRAMLAR KULLANILDI.\n",
        "ÖN İŞLEME VE CNN MODELİ TEK KOD ÜZERİNDE ÇALIŞILDI."
      ],
      "metadata": {
        "id": "LdJc0duRxCQ1"
      }
    },
    {
      "cell_type": "markdown",
      "source": [
        "**ÖNCE GEREKLİ KÜTÜPHANELER, TOOLLAR YÜKLENDİ**"
      ],
      "metadata": {
        "id": "e7RaGQsXxXrv"
      }
    },
    {
      "cell_type": "code",
      "execution_count": 21,
      "metadata": {
        "id": "-2j4fVaaWfwu"
      },
      "outputs": [],
      "source": [
        "# Importing\n",
        "import tensorflow as tf\n",
        "from tensorflow import keras\n",
        "import cv2 \n",
        "from google.colab.patches import cv2_imshow\n",
        "from google.colab import drive\n",
        "import glob \n",
        "import os\n",
        "import pandas as pd\n",
        "import numpy as np\n",
        "import matplotlib.pyplot as plt\n",
        "from sklearn.preprocessing import LabelEncoder, minmax_scale\n",
        "from sklearn.model_selection import train_test_split"
      ]
    },
    {
      "cell_type": "markdown",
      "source": [
        "**SPEKTROGRAMLAR ÜZERİNDEN ÖN İŞLEME**"
      ],
      "metadata": {
        "id": "2TlEDvQyxc_7"
      }
    },
    {
      "cell_type": "code",
      "source": [
        "# Define & Grayscale\n",
        "drive.mount(\"/content/drive/\")\n",
        "\n",
        "image_0 = [cv2.imread(file) for file in glob.glob (\"/content/drive/MyDrive/globalaihub bootcamp/spectrogramlar/0/*.png\")]\n",
        "image_1 = [cv2.imread(file) for file in glob.glob (\"/content/drive/MyDrive/globalaihub bootcamp/spectrogramlar/1/*.png\")]\n",
        "image_2 = [cv2.imread(file) for file in glob.glob (\"/content/drive/MyDrive/globalaihub bootcamp/spectrogramlar/2/*.png\")]\n",
        "image_3 = [cv2.imread(file) for file in glob.glob (\"/content/drive/MyDrive/globalaihub bootcamp/spectrogramlar/3/*.png\")]\n",
        "image_4 = [cv2.imread(file) for file in glob.glob (\"/content/drive/MyDrive/globalaihub bootcamp/spectrogramlar/4/*.png\")]\n",
        "image_5 = [cv2.imread(file) for file in glob.glob (\"/content/drive/MyDrive/globalaihub bootcamp/spectrogramlar/5/*.png\")]\n",
        "image_6 = [cv2.imread(file) for file in glob.glob (\"/content/drive/MyDrive/globalaihub bootcamp/spectrogramlar/6/*.png\")]\n",
        "image_7 = [cv2.imread(file) for file in glob.glob (\"/content/drive/MyDrive/globalaihub bootcamp/spectrogramlar/7/*.png\")]\n",
        "image_8 = [cv2.imread(file) for file in glob.glob (\"/content/drive/MyDrive/globalaihub bootcamp/spectrogramlar/8/*.png\")]\n",
        "image_9 = [cv2.imread(file) for file in glob.glob (\"/content/drive/MyDrive/globalaihub bootcamp/spectrogramlar/9/*.png\")]\n",
        "\n",
        "gray_0 = [cv2.imread(file,0) for file in glob.glob (\"/content/drive/MyDrive/globalaihub bootcamp/spectrogramlar/0/*.png\")]\n",
        "gray_1 = [cv2.imread(file,0) for file in glob.glob (\"/content/drive/MyDrive/globalaihub bootcamp/spectrogramlar/1/*.png\")]\n",
        "gray_2 = [cv2.imread(file,0) for file in glob.glob (\"/content/drive/MyDrive/globalaihub bootcamp/spectrogramlar/2/*.png\")]\n",
        "gray_3 = [cv2.imread(file,0) for file in glob.glob (\"/content/drive/MyDrive/globalaihub bootcamp/spectrogramlar/3/*.png\")]\n",
        "gray_4 = [cv2.imread(file,0) for file in glob.glob (\"/content/drive/MyDrive/globalaihub bootcamp/spectrogramlar/4/*.png\")]\n",
        "gray_5 = [cv2.imread(file,0) for file in glob.glob (\"/content/drive/MyDrive/globalaihub bootcamp/spectrogramlar/5/*.png\")]\n",
        "gray_6 = [cv2.imread(file,0) for file in glob.glob (\"/content/drive/MyDrive/globalaihub bootcamp/spectrogramlar/6/*.png\")]\n",
        "gray_7 = [cv2.imread(file,0) for file in glob.glob (\"/content/drive/MyDrive/globalaihub bootcamp/spectrogramlar/7/*.png\")]\n",
        "gray_8 = [cv2.imread(file,0) for file in glob.glob (\"/content/drive/MyDrive/globalaihub bootcamp/spectrogramlar/8/*.png\")]\n",
        "gray_9 = [cv2.imread(file,0) for file in glob.glob (\"/content/drive/MyDrive/globalaihub bootcamp/spectrogramlar/9/*.png\")]"
      ],
      "metadata": {
        "colab": {
          "base_uri": "https://localhost:8080/"
        },
        "id": "UjiZuJ-_XmJ9",
        "outputId": "766bd8b5-8146-42f9-9e65-0a292052f12a"
      },
      "execution_count": 22,
      "outputs": [
        {
          "output_type": "stream",
          "name": "stdout",
          "text": [
            "Drive already mounted at /content/drive/; to attempt to forcibly remount, call drive.mount(\"/content/drive/\", force_remount=True).\n"
          ]
        }
      ]
    },
    {
      "cell_type": "code",
      "source": [
        "# Resizing\n",
        "newsize = (128,128)\n",
        "normalizedImg = np.zeros(newsize)\n",
        "values = []\n",
        "all_gray = []\n",
        "\n",
        "all_gray.append(gray_0)\n",
        "all_gray.append(gray_1)\n",
        "all_gray.append(gray_2)\n",
        "all_gray.append(gray_3)\n",
        "all_gray.append(gray_4)\n",
        "all_gray.append(gray_5)\n",
        "all_gray.append(gray_6)\n",
        "all_gray.append(gray_7)\n",
        "all_gray.append(gray_8)\n",
        "all_gray.append(gray_9)\n",
        "\n",
        "for order in range(0,10):\n",
        "  for i in range(0,len(all_gray[order])):\n",
        "    resized = cv2.resize(gray_0[i], newsize, interpolation = cv2.INTER_AREA)\n",
        "    normal0 = cv2.normalize(resized, normalizedImg, 0, 255, cv2.NORM_MINMAX)\n",
        "    path0 = glob.glob(f\"/content/drive/MyDrive/globalaihub bootcamp/spectrogramlar/{order}/*.png\")\n",
        "    fn = os.path.basename(path0[i])\n",
        "    file_name = os.path.splitext(fn)[0]\n",
        "    folder_number = order\n",
        "    values.append([file_name, normal0, order])\n",
        "  print(f\"{order}. klasördeki dosyaların grayscale dönüşümü tamamlandı\")\n",
        "  \n",
        "columns = ['Name', 'Picture', 'File']\n",
        "all_images = pd.DataFrame.from_records(values, columns=columns)\n",
        "all_images.to_csv(r\"all_images.csv\", encoding=\"utf-8\", index=False)"
      ],
      "metadata": {
        "colab": {
          "base_uri": "https://localhost:8080/"
        },
        "id": "ckYoBLuDX7fb",
        "outputId": "1d747ce9-f102-4d5b-b334-b781e53e2d88"
      },
      "execution_count": 23,
      "outputs": [
        {
          "output_type": "stream",
          "name": "stdout",
          "text": [
            "0. klasördeki dosyaların grayscale dönüşümü tamamlandı\n",
            "1. klasördeki dosyaların grayscale dönüşümü tamamlandı\n",
            "2. klasördeki dosyaların grayscale dönüşümü tamamlandı\n",
            "3. klasördeki dosyaların grayscale dönüşümü tamamlandı\n",
            "4. klasördeki dosyaların grayscale dönüşümü tamamlandı\n",
            "5. klasördeki dosyaların grayscale dönüşümü tamamlandı\n",
            "6. klasördeki dosyaların grayscale dönüşümü tamamlandı\n",
            "7. klasördeki dosyaların grayscale dönüşümü tamamlandı\n",
            "8. klasördeki dosyaların grayscale dönüşümü tamamlandı\n",
            "9. klasördeki dosyaların grayscale dönüşümü tamamlandı\n"
          ]
        }
      ]
    },
    {
      "cell_type": "code",
      "source": [
        "pd.read_csv('all_images.csv')"
      ],
      "metadata": {
        "colab": {
          "base_uri": "https://localhost:8080/",
          "height": 424
        },
        "id": "Ip7tGPFjuQAs",
        "outputId": "17de6630-4622-4013-c0b9-adc58fe8855a"
      },
      "execution_count": 24,
      "outputs": [
        {
          "output_type": "execute_result",
          "data": {
            "text/plain": [
              "               Name                                            Picture  File\n",
              "0     100852-0-0-22  [[255  67   0 ...   0   0   0]\\n [255  68   0 ...     0\n",
              "1     100852-0-0-23  [[255  67   0 ...   0   0   0]\\n [255  68   0 ...     0\n",
              "2     100852-0-0-21  [[255  67   0 ...   0   0   0]\\n [255  68   0 ...     0\n",
              "3     100852-0-0-20  [[255  67   0 ...   0   0   0]\\n [255  68   0 ...     0\n",
              "4     100852-0-0-18  [[255  67   0 ...   0   0   0]\\n [255  68   0 ...     0\n",
              "...             ...                                                ...   ...\n",
              "8727    99180-9-0-0  [[255  67   0 ...   0   0   0]\\n [255  68   0 ...     9\n",
              "8728   99179-9-0-19  [[255  67   0 ...   0   0   0]\\n [255  68   0 ...     9\n",
              "8729   99179-9-0-17  [[255  67   0 ...   0   0   0]\\n [255  68   0 ...     9\n",
              "8730   99179-9-0-12  [[255  67   0 ...   0   0   0]\\n [255  68   0 ...     9\n",
              "8731   99180-9-0-36  [[255  67   0 ...   0   0   0]\\n [255  68   0 ...     9\n",
              "\n",
              "[8732 rows x 3 columns]"
            ],
            "text/html": [
              "\n",
              "  <div id=\"df-ce8c365a-e773-4bf2-a499-a2bf33fb2d98\">\n",
              "    <div class=\"colab-df-container\">\n",
              "      <div>\n",
              "<style scoped>\n",
              "    .dataframe tbody tr th:only-of-type {\n",
              "        vertical-align: middle;\n",
              "    }\n",
              "\n",
              "    .dataframe tbody tr th {\n",
              "        vertical-align: top;\n",
              "    }\n",
              "\n",
              "    .dataframe thead th {\n",
              "        text-align: right;\n",
              "    }\n",
              "</style>\n",
              "<table border=\"1\" class=\"dataframe\">\n",
              "  <thead>\n",
              "    <tr style=\"text-align: right;\">\n",
              "      <th></th>\n",
              "      <th>Name</th>\n",
              "      <th>Picture</th>\n",
              "      <th>File</th>\n",
              "    </tr>\n",
              "  </thead>\n",
              "  <tbody>\n",
              "    <tr>\n",
              "      <th>0</th>\n",
              "      <td>100852-0-0-22</td>\n",
              "      <td>[[255  67   0 ...   0   0   0]\\n [255  68   0 ...</td>\n",
              "      <td>0</td>\n",
              "    </tr>\n",
              "    <tr>\n",
              "      <th>1</th>\n",
              "      <td>100852-0-0-23</td>\n",
              "      <td>[[255  67   0 ...   0   0   0]\\n [255  68   0 ...</td>\n",
              "      <td>0</td>\n",
              "    </tr>\n",
              "    <tr>\n",
              "      <th>2</th>\n",
              "      <td>100852-0-0-21</td>\n",
              "      <td>[[255  67   0 ...   0   0   0]\\n [255  68   0 ...</td>\n",
              "      <td>0</td>\n",
              "    </tr>\n",
              "    <tr>\n",
              "      <th>3</th>\n",
              "      <td>100852-0-0-20</td>\n",
              "      <td>[[255  67   0 ...   0   0   0]\\n [255  68   0 ...</td>\n",
              "      <td>0</td>\n",
              "    </tr>\n",
              "    <tr>\n",
              "      <th>4</th>\n",
              "      <td>100852-0-0-18</td>\n",
              "      <td>[[255  67   0 ...   0   0   0]\\n [255  68   0 ...</td>\n",
              "      <td>0</td>\n",
              "    </tr>\n",
              "    <tr>\n",
              "      <th>...</th>\n",
              "      <td>...</td>\n",
              "      <td>...</td>\n",
              "      <td>...</td>\n",
              "    </tr>\n",
              "    <tr>\n",
              "      <th>8727</th>\n",
              "      <td>99180-9-0-0</td>\n",
              "      <td>[[255  67   0 ...   0   0   0]\\n [255  68   0 ...</td>\n",
              "      <td>9</td>\n",
              "    </tr>\n",
              "    <tr>\n",
              "      <th>8728</th>\n",
              "      <td>99179-9-0-19</td>\n",
              "      <td>[[255  67   0 ...   0   0   0]\\n [255  68   0 ...</td>\n",
              "      <td>9</td>\n",
              "    </tr>\n",
              "    <tr>\n",
              "      <th>8729</th>\n",
              "      <td>99179-9-0-17</td>\n",
              "      <td>[[255  67   0 ...   0   0   0]\\n [255  68   0 ...</td>\n",
              "      <td>9</td>\n",
              "    </tr>\n",
              "    <tr>\n",
              "      <th>8730</th>\n",
              "      <td>99179-9-0-12</td>\n",
              "      <td>[[255  67   0 ...   0   0   0]\\n [255  68   0 ...</td>\n",
              "      <td>9</td>\n",
              "    </tr>\n",
              "    <tr>\n",
              "      <th>8731</th>\n",
              "      <td>99180-9-0-36</td>\n",
              "      <td>[[255  67   0 ...   0   0   0]\\n [255  68   0 ...</td>\n",
              "      <td>9</td>\n",
              "    </tr>\n",
              "  </tbody>\n",
              "</table>\n",
              "<p>8732 rows × 3 columns</p>\n",
              "</div>\n",
              "      <button class=\"colab-df-convert\" onclick=\"convertToInteractive('df-ce8c365a-e773-4bf2-a499-a2bf33fb2d98')\"\n",
              "              title=\"Convert this dataframe to an interactive table.\"\n",
              "              style=\"display:none;\">\n",
              "        \n",
              "  <svg xmlns=\"http://www.w3.org/2000/svg\" height=\"24px\"viewBox=\"0 0 24 24\"\n",
              "       width=\"24px\">\n",
              "    <path d=\"M0 0h24v24H0V0z\" fill=\"none\"/>\n",
              "    <path d=\"M18.56 5.44l.94 2.06.94-2.06 2.06-.94-2.06-.94-.94-2.06-.94 2.06-2.06.94zm-11 1L8.5 8.5l.94-2.06 2.06-.94-2.06-.94L8.5 2.5l-.94 2.06-2.06.94zm10 10l.94 2.06.94-2.06 2.06-.94-2.06-.94-.94-2.06-.94 2.06-2.06.94z\"/><path d=\"M17.41 7.96l-1.37-1.37c-.4-.4-.92-.59-1.43-.59-.52 0-1.04.2-1.43.59L10.3 9.45l-7.72 7.72c-.78.78-.78 2.05 0 2.83L4 21.41c.39.39.9.59 1.41.59.51 0 1.02-.2 1.41-.59l7.78-7.78 2.81-2.81c.8-.78.8-2.07 0-2.86zM5.41 20L4 18.59l7.72-7.72 1.47 1.35L5.41 20z\"/>\n",
              "  </svg>\n",
              "      </button>\n",
              "      \n",
              "  <style>\n",
              "    .colab-df-container {\n",
              "      display:flex;\n",
              "      flex-wrap:wrap;\n",
              "      gap: 12px;\n",
              "    }\n",
              "\n",
              "    .colab-df-convert {\n",
              "      background-color: #E8F0FE;\n",
              "      border: none;\n",
              "      border-radius: 50%;\n",
              "      cursor: pointer;\n",
              "      display: none;\n",
              "      fill: #1967D2;\n",
              "      height: 32px;\n",
              "      padding: 0 0 0 0;\n",
              "      width: 32px;\n",
              "    }\n",
              "\n",
              "    .colab-df-convert:hover {\n",
              "      background-color: #E2EBFA;\n",
              "      box-shadow: 0px 1px 2px rgba(60, 64, 67, 0.3), 0px 1px 3px 1px rgba(60, 64, 67, 0.15);\n",
              "      fill: #174EA6;\n",
              "    }\n",
              "\n",
              "    [theme=dark] .colab-df-convert {\n",
              "      background-color: #3B4455;\n",
              "      fill: #D2E3FC;\n",
              "    }\n",
              "\n",
              "    [theme=dark] .colab-df-convert:hover {\n",
              "      background-color: #434B5C;\n",
              "      box-shadow: 0px 1px 3px 1px rgba(0, 0, 0, 0.15);\n",
              "      filter: drop-shadow(0px 1px 2px rgba(0, 0, 0, 0.3));\n",
              "      fill: #FFFFFF;\n",
              "    }\n",
              "  </style>\n",
              "\n",
              "      <script>\n",
              "        const buttonEl =\n",
              "          document.querySelector('#df-ce8c365a-e773-4bf2-a499-a2bf33fb2d98 button.colab-df-convert');\n",
              "        buttonEl.style.display =\n",
              "          google.colab.kernel.accessAllowed ? 'block' : 'none';\n",
              "\n",
              "        async function convertToInteractive(key) {\n",
              "          const element = document.querySelector('#df-ce8c365a-e773-4bf2-a499-a2bf33fb2d98');\n",
              "          const dataTable =\n",
              "            await google.colab.kernel.invokeFunction('convertToInteractive',\n",
              "                                                     [key], {});\n",
              "          if (!dataTable) return;\n",
              "\n",
              "          const docLinkHtml = 'Like what you see? Visit the ' +\n",
              "            '<a target=\"_blank\" href=https://colab.research.google.com/notebooks/data_table.ipynb>data table notebook</a>'\n",
              "            + ' to learn more about interactive tables.';\n",
              "          element.innerHTML = '';\n",
              "          dataTable['output_type'] = 'display_data';\n",
              "          await google.colab.output.renderOutput(dataTable, element);\n",
              "          const docLink = document.createElement('div');\n",
              "          docLink.innerHTML = docLinkHtml;\n",
              "          element.appendChild(docLink);\n",
              "        }\n",
              "      </script>\n",
              "    </div>\n",
              "  </div>\n",
              "  "
            ]
          },
          "metadata": {},
          "execution_count": 24
        }
      ]
    },
    {
      "cell_type": "markdown",
      "source": [
        "**X & Y VERİ SETLERİ İLE CNN MODEL EĞİTİMİ**"
      ],
      "metadata": {
        "id": "UZA6JoeVxyiU"
      }
    },
    {
      "cell_type": "code",
      "source": [
        "# x & y Trains\n",
        "x = all_images['Picture']\n",
        "y = all_images.loc[:,'File']\n",
        "\n",
        "encoder = LabelEncoder()\n",
        "y = encoder.fit_transform(y)\n",
        "x_train, x_temporary, y_train, y_temporary = train_test_split(x, y, train_size=0.8, random_state=42) \n",
        "x_val, x_test, y_val, y_test = train_test_split(x_temporary, y_temporary, test_size=0.5, random_state=42)\n",
        "\n",
        "# Convulation and Max Layer\n",
        "model = tf.keras.Sequential()\n",
        "model.add(tf.keras.layers.Conv2D(32, kernel_size = (3,3), strides = (1,1), padding = 'same', activation = 'relu', input_shape = (128, 128,1)))\n",
        "model.add(tf.keras.layers.MaxPooling2D((2,2)))\n",
        "model.add(tf.keras.layers.Conv2D(64, kernel_size = (3,3), strides = (2,2), padding = 'same', activation = 'relu', input_shape = (128, 128,1)))\n",
        "model.add(tf.keras.layers.MaxPooling2D((2,2)))\n",
        "model.add(tf.keras.layers.Conv2D(64, kernel_size = (2,2), strides = (1,1), padding = 'same', activation = 'relu', input_shape = (128, 128,1)))\n",
        "model.add(tf.keras.layers.MaxPooling2D((2,2)))\n",
        "\n",
        "# Flatten, Dense, Dropout\n",
        "model.add(tf.keras.layers.Flatten())\n",
        "\n",
        "for i in range(0,2):\n",
        " model.add(tf.keras.layers.Dense(64,input_shape=(128, 128),activation = 'relu'))\n",
        " model.add(tf.keras.layers.Dropout(0.5))\n",
        "\n",
        "# Output layer\n",
        "model.add(tf.keras.layers.Dense(10, input_shape=(128, 128), activation='softmax'))\n",
        "\n",
        "# Data Type Change\n",
        "x_train = np.array([np.array(train) for train in x_train])\n",
        "x_val = np.array([np.array(val) for val in x_val])\n",
        "x_test = np.array([np.array(test) for test in x_test])\n",
        "\n",
        "#Shape Check\n",
        "x_val.shape"
      ],
      "metadata": {
        "colab": {
          "base_uri": "https://localhost:8080/"
        },
        "id": "Z_fIC-J8c9Vc",
        "outputId": "68b45e0a-bedc-4fdc-e10a-8d5966c62bb5"
      },
      "execution_count": 25,
      "outputs": [
        {
          "output_type": "execute_result",
          "data": {
            "text/plain": [
              "(873, 128, 128)"
            ]
          },
          "metadata": {},
          "execution_count": 25
        }
      ]
    },
    {
      "cell_type": "code",
      "source": [
        "# Model Training\n",
        "model.compile(optimizer='adam',\n",
        "                  loss='sparse_categorical_crossentropy',\n",
        "                  metrics=['accuracy'])\n",
        "results = model.fit(x_train, y_train, batch_size=128, epochs=10,validation_data=(x_val, y_val))"
      ],
      "metadata": {
        "colab": {
          "base_uri": "https://localhost:8080/"
        },
        "id": "HhRcvZ2odTT5",
        "outputId": "9f3ee0dc-3a60-4a13-948f-4e1babaf3ff7"
      },
      "execution_count": null,
      "outputs": [
        {
          "output_type": "stream",
          "name": "stdout",
          "text": [
            "Epoch 1/10\n",
            "55/55 [==============================] - 85s 2s/step - loss: 3.0037 - accuracy: 0.1094 - val_loss: 2.2966 - val_accuracy: 0.1226\n",
            "Epoch 2/10\n",
            "55/55 [==============================] - 78s 1s/step - loss: 2.2923 - accuracy: 0.1137 - val_loss: 2.2912 - val_accuracy: 0.1226\n",
            "Epoch 3/10\n",
            "55/55 [==============================] - 80s 1s/step - loss: 2.2862 - accuracy: 0.1092 - val_loss: 2.2861 - val_accuracy: 0.1226\n",
            "Epoch 4/10\n",
            "55/55 [==============================] - 77s 1s/step - loss: 2.2806 - accuracy: 0.1105 - val_loss: 2.2819 - val_accuracy: 0.1226\n",
            "Epoch 5/10\n",
            "28/55 [==============>...............] - ETA: 36s - loss: 2.2781 - accuracy: 0.1177"
          ]
        }
      ]
    },
    {
      "cell_type": "code",
      "source": [
        "# Losses\n",
        "plt.plot(results.history['loss'], label = 'loss')\n",
        "plt.plot(results.history['val_loss'], label = 'val_loss')\n",
        "\n",
        "# Plot\n",
        "plt.xlabel('EPOCH')\n",
        "plt.ylabel('LOSS')\n",
        "plt.legend()\n",
        "plt.show()"
      ],
      "metadata": {
        "id": "527sgGoBdVq6"
      },
      "execution_count": null,
      "outputs": []
    },
    {
      "cell_type": "code",
      "source": [
        "# Accuracy\n",
        "plt.plot(results.history['accuracy'], label = 'accuracy')\n",
        "plt.plot(results.history['val_accuracy'], label = 'val_accuracy')\n",
        "\n",
        "# Plot\n",
        "plt.xlabel('EPOCH')\n",
        "plt.ylabel('ACCURACY')\n",
        "plt.legend()\n",
        "plt.show()"
      ],
      "metadata": {
        "id": "RvIniKGhsAJK"
      },
      "execution_count": null,
      "outputs": []
    },
    {
      "cell_type": "code",
      "source": [
        "# Merging the Plots\n",
        "plt.plot(results.history['accuracy'], label = 'accuracy')\n",
        "plt.plot(results.history['loss'], label = 'loss')\n",
        "plt.xlabel('EPOCH')\n",
        "plt.ylabel('ACCURACY, LOSS')\n",
        "plt.legend()\n",
        "plt.show()"
      ],
      "metadata": {
        "id": "ggprj_zUdbsS"
      },
      "execution_count": null,
      "outputs": []
    },
    {
      "cell_type": "code",
      "source": [
        "# Performance\n",
        "model.evaluate(x_test, y_test)"
      ],
      "metadata": {
        "id": "8pHyp9E3dfEw"
      },
      "execution_count": null,
      "outputs": []
    },
    {
      "cell_type": "code",
      "source": [
        "# Hyperparameter functions\n",
        "def hyperparameter(padding = 'same', activation = 'relu', units = 10, optimizer='adam'):\n",
        "  model = tf.keras.Sequential()\n",
        "  model.add(tf.keras.layers.Conv2D(32, kernel_size = (3,3), strides = (1,1), padding = padding, activation = activation, input_shape = (128,128,1)))\n",
        "  model.add(tf.keras.layers.MaxPool2D((2,2)))\n",
        "  model.add(tf.keras.layers.Conv2D(64, kernel_size = (3,3), strides = (1,1), padding = padding, activation = activation))\n",
        "  model.add(tf.keras.layers.MaxPool2D((2,2)))\n",
        "  model.add(tf.keras.layers.Conv2D(64, kernel_size = (3,3), strides = (1,1), padding = padding, activation = activation))\n",
        "  model.add(tf.keras.layers.MaxPool2D((2,2)))\n",
        "  model.add(tf.keras.layers.MaxPooling2D((2,2)))\n",
        "  model.add(tf.keras.layers.Flatten())\n",
        "  model.add(tf.keras.layers.Dense(64, activation = activation))\n",
        "  model.add(tf.keras.layers.Dropout(0.5))  \n",
        "  model.add(tf.keras.layers.Dense(64, activation = activation))\n",
        "  model.add(tf.keras.layers.Dropout(0.5)) \n",
        "  model.add(tf.keras.layers.Dense(units, activation='softmax'))  \n",
        "  model.compile(optimizer= optimizer, loss='sparse_categorical_crossentropy', metrics=['accuracy'])\n",
        "  return model\n",
        "\n",
        "def modelfitting(X_train, y_train, X_val,y_val,batch_size = 128, epochs = 10):\n",
        "  results = model.fit(X_train, y_train, batch_size = batch_size, epochs = epochs, validation_data = (X_val,y_val))\n",
        "  return results "
      ],
      "metadata": {
        "id": "DYE--DW_diW5"
      },
      "execution_count": null,
      "outputs": []
    },
    {
      "cell_type": "code",
      "source": [
        "#Activation\n",
        "activationL = ['relu', 'sigmoid', 'elu', 'exponential']\n",
        "scores = []\n",
        "\n",
        "for i in (activationL):\n",
        "  model = hyperparameter(activation = i)\n",
        "  results = modelfitting(x_train, y_train, x_val,y_val,epochs = 10)\n",
        "  loss_accuracy  = model.evaluate(x_test, y_test)\n",
        "  scores.append((i, loss_accuracy))"
      ],
      "metadata": {
        "id": "oHjJvVzSdo15"
      },
      "execution_count": null,
      "outputs": []
    },
    {
      "cell_type": "code",
      "source": [
        "# Accurancy Results\n",
        "for i in scores:\n",
        "  print(i)"
      ],
      "metadata": {
        "id": "vScvg-fFdrqf"
      },
      "execution_count": null,
      "outputs": []
    }
  ]
}